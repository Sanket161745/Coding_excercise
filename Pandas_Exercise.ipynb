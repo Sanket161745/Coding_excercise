{
 "cells": [
  {
   "cell_type": "markdown",
   "metadata": {},
   "source": [
    "\n",
    "<a href='http://www.pieriandata.com'><img src='../Pierian_Data_Logo.png'/></a>\n",
    "___\n",
    "<center><em>Copyright Pierian Data</em></center>\n",
    "<center><em>For more information, visit us at <a href='http://www.pieriandata.com'>www.pieriandata.com</a></em></center>"
   ]
  },
  {
   "cell_type": "markdown",
   "metadata": {},
   "source": [
    "# Pandas Exercises\n",
    "\n",
    "**Source of the Data: https://www.kaggle.com/chirin/africa-economic-banking-and-systemic-crisis-data/downloads/africa-economic-banking-and-systemic-crisis-data.zip/1**\n",
    "\n",
    "\n",
    "This dataset is a derivative of Reinhart et. al's Global Financial Stability dataset which can be found online at: https://www.hbs.edu/behavioral-finance-and-financial-stability/data/Pages/global.aspx\n",
    "\n",
    "The dataset will be valuable to those who seek to understand the dynamics of financial stability within the African context.\n",
    "\n",
    "Content\n",
    "The dataset specifically focuses on the Banking, Debt, Financial, Inflation and Systemic Crises that occurred, from 1860 to 2014, in 13 African countries, including: Algeria, Angola, Central African Republic, Ivory Coast, Egypt, Kenya, Mauritius, Morocco, Nigeria, South Africa, Tunisia, Zambia and Zimbabwe.\n",
    "\n",
    "\n",
    "\n",
    "* caseA     number which denotes a specific country\n",
    "* cc3A     three letter country code\n",
    "* country    The name of the country\n",
    "* year   The year of the observation\n",
    "* systemic_crisis\"0\" means that no systemic crisis occurred in the year and \"1\" means that a systemic crisis occurred in the year.\n",
    "* exch_usd    The exchange rate of the country vis-a-vis the USD\n",
    "* domestic_debt_in_default   \"0\" means that no sovereign domestic debt default occurred in the year and \"1\" means that a sovereign domestic debt default occurred in the year\n",
    "* sovereign_external_debt_default  \"0\" means that no sovereign external debt default occurred in the year and \"1\" means that a sovereign external debt default occurred in the year\n",
    "* gdp_weighted_default    The total debt in default vis-a-vis the GDP\n",
    "* inflation_annual_cpi    The annual CPI Inflation rate\n",
    "* independence   \"0\" means \"no independence\" and \"1\" means \"independence\"\n",
    "* currency_crises  \"0\" means that no currency crisis occurred in the year and \"1\" means that a currency crisis occurred in the year\n",
    "* inflation_crises  \"0\" means that no inflation crisis occurred in the year and \"1\" means that an inflation crisis occurred in the year\n",
    "* banking_crisis\"no_crisis\" means that no banking crisis occurred in the year and \"crisis\" means that a banking crisis occurred in the year"
   ]
  },
  {
   "cell_type": "markdown",
   "metadata": {},
   "source": [
    "---\n",
    "---\n",
    "***PLEASE NOTE! THERE ARE MANY,MANY DIFFERENT POSSIBLE SOLUTIONS TO THESE QUESTIONS! PLEASE DON'T POST ASKING IF YOUR SOLUTION IS OK IF ITS DIFFERENT. AS LONG AS YOU GOT THE CORRECT ANSWER IT IS OK!***\n",
    "\n",
    "---\n",
    "---\n",
    "# Complete the Tasks Below\n",
    "---"
   ]
  },
  {
   "cell_type": "markdown",
   "metadata": {},
   "source": [
    "**TASK: Import pandas**"
   ]
  },
  {
   "cell_type": "code",
   "execution_count": 1,
   "metadata": {},
   "outputs": [],
   "source": [
    "# CODE HERE"
   ]
  },
  {
   "cell_type": "code",
   "execution_count": 2,
   "metadata": {},
   "outputs": [],
   "source": [
    "import pandas as pd"
   ]
  },
  {
   "cell_type": "markdown",
   "metadata": {},
   "source": [
    "**TASK:  Read in the african_econ_crises.csv file that is located under the 01-Crash-Course-Pandas folder. Pay close attention to where the .csv file is located! Please don't post to the QA forums if you can't figure this one out, instead, run our solutions notebook directly to see how its done.**"
   ]
  },
  {
   "cell_type": "code",
   "execution_count": 3,
   "metadata": {},
   "outputs": [],
   "source": [
    "# CODE HERE\n",
    "df =pd.read_csv('african_econ_crises.csv')"
   ]
  },
  {
   "cell_type": "code",
   "execution_count": 4,
   "metadata": {},
   "outputs": [],
   "source": [
    "df =pd.read_csv('african_econ_crises.csv')"
   ]
  },
  {
   "cell_type": "markdown",
   "metadata": {},
   "source": [
    "**TASK: Display the first 5 rows of the data set**"
   ]
  },
  {
   "cell_type": "code",
   "execution_count": 5,
   "metadata": {},
   "outputs": [
    {
     "data": {
      "text/html": [
       "<div>\n",
       "<style scoped>\n",
       "    .dataframe tbody tr th:only-of-type {\n",
       "        vertical-align: middle;\n",
       "    }\n",
       "\n",
       "    .dataframe tbody tr th {\n",
       "        vertical-align: top;\n",
       "    }\n",
       "\n",
       "    .dataframe thead th {\n",
       "        text-align: right;\n",
       "    }\n",
       "</style>\n",
       "<table border=\"1\" class=\"dataframe\">\n",
       "  <thead>\n",
       "    <tr style=\"text-align: right;\">\n",
       "      <th></th>\n",
       "      <th>case</th>\n",
       "      <th>cc3</th>\n",
       "      <th>country</th>\n",
       "      <th>year</th>\n",
       "      <th>systemic_crisis</th>\n",
       "      <th>exch_usd</th>\n",
       "      <th>domestic_debt_in_default</th>\n",
       "      <th>sovereign_external_debt_default</th>\n",
       "      <th>gdp_weighted_default</th>\n",
       "      <th>inflation_annual_cpi</th>\n",
       "      <th>independence</th>\n",
       "      <th>currency_crises</th>\n",
       "      <th>inflation_crises</th>\n",
       "      <th>banking_crisis</th>\n",
       "    </tr>\n",
       "  </thead>\n",
       "  <tbody>\n",
       "    <tr>\n",
       "      <th>0</th>\n",
       "      <td>1</td>\n",
       "      <td>DZA</td>\n",
       "      <td>Algeria</td>\n",
       "      <td>1870</td>\n",
       "      <td>1</td>\n",
       "      <td>0.052264</td>\n",
       "      <td>0</td>\n",
       "      <td>0</td>\n",
       "      <td>0.0</td>\n",
       "      <td>3.441456</td>\n",
       "      <td>0</td>\n",
       "      <td>0</td>\n",
       "      <td>0</td>\n",
       "      <td>crisis</td>\n",
       "    </tr>\n",
       "    <tr>\n",
       "      <th>1</th>\n",
       "      <td>1</td>\n",
       "      <td>DZA</td>\n",
       "      <td>Algeria</td>\n",
       "      <td>1871</td>\n",
       "      <td>0</td>\n",
       "      <td>0.052798</td>\n",
       "      <td>0</td>\n",
       "      <td>0</td>\n",
       "      <td>0.0</td>\n",
       "      <td>14.149140</td>\n",
       "      <td>0</td>\n",
       "      <td>0</td>\n",
       "      <td>0</td>\n",
       "      <td>no_crisis</td>\n",
       "    </tr>\n",
       "    <tr>\n",
       "      <th>2</th>\n",
       "      <td>1</td>\n",
       "      <td>DZA</td>\n",
       "      <td>Algeria</td>\n",
       "      <td>1872</td>\n",
       "      <td>0</td>\n",
       "      <td>0.052274</td>\n",
       "      <td>0</td>\n",
       "      <td>0</td>\n",
       "      <td>0.0</td>\n",
       "      <td>-3.718593</td>\n",
       "      <td>0</td>\n",
       "      <td>0</td>\n",
       "      <td>0</td>\n",
       "      <td>no_crisis</td>\n",
       "    </tr>\n",
       "    <tr>\n",
       "      <th>3</th>\n",
       "      <td>1</td>\n",
       "      <td>DZA</td>\n",
       "      <td>Algeria</td>\n",
       "      <td>1873</td>\n",
       "      <td>0</td>\n",
       "      <td>0.051680</td>\n",
       "      <td>0</td>\n",
       "      <td>0</td>\n",
       "      <td>0.0</td>\n",
       "      <td>11.203897</td>\n",
       "      <td>0</td>\n",
       "      <td>0</td>\n",
       "      <td>0</td>\n",
       "      <td>no_crisis</td>\n",
       "    </tr>\n",
       "    <tr>\n",
       "      <th>4</th>\n",
       "      <td>1</td>\n",
       "      <td>DZA</td>\n",
       "      <td>Algeria</td>\n",
       "      <td>1874</td>\n",
       "      <td>0</td>\n",
       "      <td>0.051308</td>\n",
       "      <td>0</td>\n",
       "      <td>0</td>\n",
       "      <td>0.0</td>\n",
       "      <td>-3.848561</td>\n",
       "      <td>0</td>\n",
       "      <td>0</td>\n",
       "      <td>0</td>\n",
       "      <td>no_crisis</td>\n",
       "    </tr>\n",
       "  </tbody>\n",
       "</table>\n",
       "</div>"
      ],
      "text/plain": [
       "   case  cc3  country  year  systemic_crisis  exch_usd  \\\n",
       "0     1  DZA  Algeria  1870                1  0.052264   \n",
       "1     1  DZA  Algeria  1871                0  0.052798   \n",
       "2     1  DZA  Algeria  1872                0  0.052274   \n",
       "3     1  DZA  Algeria  1873                0  0.051680   \n",
       "4     1  DZA  Algeria  1874                0  0.051308   \n",
       "\n",
       "   domestic_debt_in_default  sovereign_external_debt_default  \\\n",
       "0                         0                                0   \n",
       "1                         0                                0   \n",
       "2                         0                                0   \n",
       "3                         0                                0   \n",
       "4                         0                                0   \n",
       "\n",
       "   gdp_weighted_default  inflation_annual_cpi  independence  currency_crises  \\\n",
       "0                   0.0              3.441456             0                0   \n",
       "1                   0.0             14.149140             0                0   \n",
       "2                   0.0             -3.718593             0                0   \n",
       "3                   0.0             11.203897             0                0   \n",
       "4                   0.0             -3.848561             0                0   \n",
       "\n",
       "   inflation_crises banking_crisis  \n",
       "0                 0         crisis  \n",
       "1                 0      no_crisis  \n",
       "2                 0      no_crisis  \n",
       "3                 0      no_crisis  \n",
       "4                 0      no_crisis  "
      ]
     },
     "execution_count": 5,
     "metadata": {},
     "output_type": "execute_result"
    }
   ],
   "source": [
    "# CODE HERE\n",
    "df.head(5)"
   ]
  },
  {
   "cell_type": "code",
   "execution_count": null,
   "metadata": {},
   "outputs": [],
   "source": []
  },
  {
   "cell_type": "markdown",
   "metadata": {},
   "source": [
    "**TASK: How many countries are represented in this data set?**"
   ]
  },
  {
   "cell_type": "code",
   "execution_count": 6,
   "metadata": {},
   "outputs": [
    {
     "data": {
      "text/plain": [
       "13"
      ]
     },
     "execution_count": 6,
     "metadata": {},
     "output_type": "execute_result"
    }
   ],
   "source": [
    "# CODE HERE\n",
    "df['country'].nunique()"
   ]
  },
  {
   "cell_type": "code",
   "execution_count": null,
   "metadata": {
    "scrolled": true
   },
   "outputs": [],
   "source": []
  },
  {
   "cell_type": "markdown",
   "metadata": {},
   "source": [
    "**TASK: What are the countries represented in this data set?**"
   ]
  },
  {
   "cell_type": "code",
   "execution_count": 7,
   "metadata": {},
   "outputs": [
    {
     "data": {
      "text/plain": [
       "array(['Algeria', 'Angola', 'Central African Republic', 'Ivory Coast',\n",
       "       'Egypt', 'Kenya', 'Mauritius', 'Morocco', 'Nigeria',\n",
       "       'South Africa', 'Tunisia', 'Zambia', 'Zimbabwe'], dtype=object)"
      ]
     },
     "execution_count": 7,
     "metadata": {},
     "output_type": "execute_result"
    }
   ],
   "source": [
    "# CODE HERE\n",
    "df['country'].unique()"
   ]
  },
  {
   "cell_type": "code",
   "execution_count": null,
   "metadata": {},
   "outputs": [],
   "source": []
  },
  {
   "cell_type": "markdown",
   "metadata": {},
   "source": [
    "**TASK: What country had this highest annual CPI Inflation rate? What was the inflation rate?**"
   ]
  },
  {
   "cell_type": "code",
   "execution_count": 8,
   "metadata": {},
   "outputs": [
    {
     "data": {
      "text/plain": [
       "1053    Zimbabwe\n",
       "Name: country, dtype: object"
      ]
     },
     "execution_count": 8,
     "metadata": {},
     "output_type": "execute_result"
    }
   ],
   "source": [
    "# CODE HERE\n",
    "df.sort_values('inflation_annual_cpi', ascending=False).head(1)['country']"
   ]
  },
  {
   "cell_type": "code",
   "execution_count": null,
   "metadata": {},
   "outputs": [],
   "source": []
  },
  {
   "cell_type": "markdown",
   "metadata": {},
   "source": [
    "**TASK: In what year did Kenya have its first System Crisis?**"
   ]
  },
  {
   "cell_type": "code",
   "execution_count": 9,
   "metadata": {},
   "outputs": [
    {
     "data": {
      "text/plain": [
       "475    1985\n",
       "Name: year, dtype: int64"
      ]
     },
     "execution_count": 9,
     "metadata": {},
     "output_type": "execute_result"
    }
   ],
   "source": [
    "# CODE HERE\n",
    "df[(df['country']=='Kenya') & (df['systemic_crisis']==1)].head(1)['year']"
   ]
  },
  {
   "cell_type": "code",
   "execution_count": null,
   "metadata": {},
   "outputs": [],
   "source": []
  },
  {
   "cell_type": "markdown",
   "metadata": {},
   "source": [
    "**TASK: How many yearly systemic crisises have occurred per country?**"
   ]
  },
  {
   "cell_type": "code",
   "execution_count": 10,
   "metadata": {},
   "outputs": [
    {
     "data": {
      "text/plain": [
       "country\n",
       "Algeria                      4\n",
       "Central African Republic    19\n",
       "Egypt                        6\n",
       "Ivory Coast                  4\n",
       "Kenya                       13\n",
       "Morocco                      2\n",
       "Nigeria                     10\n",
       "Tunisia                      5\n",
       "Zambia                       4\n",
       "Zimbabwe                    15\n",
       "Name: systemic_crisis, dtype: int64"
      ]
     },
     "execution_count": 10,
     "metadata": {},
     "output_type": "execute_result"
    }
   ],
   "source": [
    "# CODE HERE\n",
    "crisis = df[df['systemic_crisis']==1]\n",
    "crisis.groupby('country').count()['systemic_crisis']"
   ]
  },
  {
   "cell_type": "code",
   "execution_count": null,
   "metadata": {},
   "outputs": [],
   "source": []
  },
  {
   "cell_type": "markdown",
   "metadata": {},
   "source": [
    "**TASK: How many years did  Zimbabwe have a sovereign external debt default occur?** "
   ]
  },
  {
   "cell_type": "code",
   "execution_count": 11,
   "metadata": {},
   "outputs": [
    {
     "data": {
      "text/plain": [
       "30"
      ]
     },
     "execution_count": 11,
     "metadata": {},
     "output_type": "execute_result"
    }
   ],
   "source": [
    "# CODE HERE\n",
    "\n",
    "len(df[(df['country']=='Zimbabwe') & (df['sovereign_external_debt_default']==1)])"
   ]
  },
  {
   "cell_type": "code",
   "execution_count": null,
   "metadata": {},
   "outputs": [],
   "source": []
  },
  {
   "cell_type": "markdown",
   "metadata": {},
   "source": [
    "**TASK: In what year did Algeria have its highest exchange rate?**"
   ]
  },
  {
   "cell_type": "code",
   "execution_count": 12,
   "metadata": {
    "scrolled": true
   },
   "outputs": [
    {
     "data": {
      "text/html": [
       "<div>\n",
       "<style scoped>\n",
       "    .dataframe tbody tr th:only-of-type {\n",
       "        vertical-align: middle;\n",
       "    }\n",
       "\n",
       "    .dataframe tbody tr th {\n",
       "        vertical-align: top;\n",
       "    }\n",
       "\n",
       "    .dataframe thead th {\n",
       "        text-align: right;\n",
       "    }\n",
       "</style>\n",
       "<table border=\"1\" class=\"dataframe\">\n",
       "  <thead>\n",
       "    <tr style=\"text-align: right;\">\n",
       "      <th></th>\n",
       "      <th>case</th>\n",
       "      <th>cc3</th>\n",
       "      <th>country</th>\n",
       "      <th>year</th>\n",
       "      <th>systemic_crisis</th>\n",
       "      <th>exch_usd</th>\n",
       "      <th>domestic_debt_in_default</th>\n",
       "      <th>sovereign_external_debt_default</th>\n",
       "      <th>gdp_weighted_default</th>\n",
       "      <th>inflation_annual_cpi</th>\n",
       "      <th>independence</th>\n",
       "      <th>currency_crises</th>\n",
       "      <th>inflation_crises</th>\n",
       "      <th>banking_crisis</th>\n",
       "    </tr>\n",
       "  </thead>\n",
       "  <tbody>\n",
       "    <tr>\n",
       "      <th>84</th>\n",
       "      <td>1</td>\n",
       "      <td>DZA</td>\n",
       "      <td>Algeria</td>\n",
       "      <td>2014</td>\n",
       "      <td>0</td>\n",
       "      <td>87.970698</td>\n",
       "      <td>0</td>\n",
       "      <td>0</td>\n",
       "      <td>0.0</td>\n",
       "      <td>2.917</td>\n",
       "      <td>1</td>\n",
       "      <td>0</td>\n",
       "      <td>0</td>\n",
       "      <td>no_crisis</td>\n",
       "    </tr>\n",
       "  </tbody>\n",
       "</table>\n",
       "</div>"
      ],
      "text/plain": [
       "    case  cc3  country  year  systemic_crisis   exch_usd  \\\n",
       "84     1  DZA  Algeria  2014                0  87.970698   \n",
       "\n",
       "    domestic_debt_in_default  sovereign_external_debt_default  \\\n",
       "84                         0                                0   \n",
       "\n",
       "    gdp_weighted_default  inflation_annual_cpi  independence  currency_crises  \\\n",
       "84                   0.0                 2.917             1                0   \n",
       "\n",
       "    inflation_crises banking_crisis  \n",
       "84                 0      no_crisis  "
      ]
     },
     "execution_count": 12,
     "metadata": {},
     "output_type": "execute_result"
    }
   ],
   "source": [
    "# CODE HERE\n",
    "df[df['country'] == 'Algeria'].sort_values('exch_usd', ascending= False).head(1)"
   ]
  },
  {
   "cell_type": "code",
   "execution_count": 13,
   "metadata": {},
   "outputs": [
    {
     "data": {
      "text/html": [
       "<div>\n",
       "<style scoped>\n",
       "    .dataframe tbody tr th:only-of-type {\n",
       "        vertical-align: middle;\n",
       "    }\n",
       "\n",
       "    .dataframe tbody tr th {\n",
       "        vertical-align: top;\n",
       "    }\n",
       "\n",
       "    .dataframe thead th {\n",
       "        text-align: right;\n",
       "    }\n",
       "</style>\n",
       "<table border=\"1\" class=\"dataframe\">\n",
       "  <thead>\n",
       "    <tr style=\"text-align: right;\">\n",
       "      <th></th>\n",
       "      <th>case</th>\n",
       "      <th>cc3</th>\n",
       "      <th>country</th>\n",
       "      <th>year</th>\n",
       "      <th>systemic_crisis</th>\n",
       "      <th>exch_usd</th>\n",
       "      <th>domestic_debt_in_default</th>\n",
       "      <th>sovereign_external_debt_default</th>\n",
       "      <th>gdp_weighted_default</th>\n",
       "      <th>inflation_annual_cpi</th>\n",
       "      <th>independence</th>\n",
       "      <th>currency_crises</th>\n",
       "      <th>inflation_crises</th>\n",
       "      <th>banking_crisis</th>\n",
       "    </tr>\n",
       "  </thead>\n",
       "  <tbody>\n",
       "    <tr>\n",
       "      <th>0</th>\n",
       "      <td>1</td>\n",
       "      <td>DZA</td>\n",
       "      <td>Algeria</td>\n",
       "      <td>1870</td>\n",
       "      <td>1</td>\n",
       "      <td>0.052264</td>\n",
       "      <td>0</td>\n",
       "      <td>0</td>\n",
       "      <td>0.0</td>\n",
       "      <td>3.441456</td>\n",
       "      <td>0</td>\n",
       "      <td>0</td>\n",
       "      <td>0</td>\n",
       "      <td>crisis</td>\n",
       "    </tr>\n",
       "    <tr>\n",
       "      <th>1</th>\n",
       "      <td>1</td>\n",
       "      <td>DZA</td>\n",
       "      <td>Algeria</td>\n",
       "      <td>1871</td>\n",
       "      <td>0</td>\n",
       "      <td>0.052798</td>\n",
       "      <td>0</td>\n",
       "      <td>0</td>\n",
       "      <td>0.0</td>\n",
       "      <td>14.149140</td>\n",
       "      <td>0</td>\n",
       "      <td>0</td>\n",
       "      <td>0</td>\n",
       "      <td>no_crisis</td>\n",
       "    </tr>\n",
       "    <tr>\n",
       "      <th>2</th>\n",
       "      <td>1</td>\n",
       "      <td>DZA</td>\n",
       "      <td>Algeria</td>\n",
       "      <td>1872</td>\n",
       "      <td>0</td>\n",
       "      <td>0.052274</td>\n",
       "      <td>0</td>\n",
       "      <td>0</td>\n",
       "      <td>0.0</td>\n",
       "      <td>-3.718593</td>\n",
       "      <td>0</td>\n",
       "      <td>0</td>\n",
       "      <td>0</td>\n",
       "      <td>no_crisis</td>\n",
       "    </tr>\n",
       "    <tr>\n",
       "      <th>3</th>\n",
       "      <td>1</td>\n",
       "      <td>DZA</td>\n",
       "      <td>Algeria</td>\n",
       "      <td>1873</td>\n",
       "      <td>0</td>\n",
       "      <td>0.051680</td>\n",
       "      <td>0</td>\n",
       "      <td>0</td>\n",
       "      <td>0.0</td>\n",
       "      <td>11.203897</td>\n",
       "      <td>0</td>\n",
       "      <td>0</td>\n",
       "      <td>0</td>\n",
       "      <td>no_crisis</td>\n",
       "    </tr>\n",
       "    <tr>\n",
       "      <th>4</th>\n",
       "      <td>1</td>\n",
       "      <td>DZA</td>\n",
       "      <td>Algeria</td>\n",
       "      <td>1874</td>\n",
       "      <td>0</td>\n",
       "      <td>0.051308</td>\n",
       "      <td>0</td>\n",
       "      <td>0</td>\n",
       "      <td>0.0</td>\n",
       "      <td>-3.848561</td>\n",
       "      <td>0</td>\n",
       "      <td>0</td>\n",
       "      <td>0</td>\n",
       "      <td>no_crisis</td>\n",
       "    </tr>\n",
       "    <tr>\n",
       "      <th>5</th>\n",
       "      <td>1</td>\n",
       "      <td>DZA</td>\n",
       "      <td>Algeria</td>\n",
       "      <td>1875</td>\n",
       "      <td>0</td>\n",
       "      <td>0.051546</td>\n",
       "      <td>0</td>\n",
       "      <td>0</td>\n",
       "      <td>0.0</td>\n",
       "      <td>-20.924178</td>\n",
       "      <td>0</td>\n",
       "      <td>0</td>\n",
       "      <td>0</td>\n",
       "      <td>no_crisis</td>\n",
       "    </tr>\n",
       "    <tr>\n",
       "      <th>6</th>\n",
       "      <td>1</td>\n",
       "      <td>DZA</td>\n",
       "      <td>Algeria</td>\n",
       "      <td>1876</td>\n",
       "      <td>0</td>\n",
       "      <td>0.051867</td>\n",
       "      <td>0</td>\n",
       "      <td>0</td>\n",
       "      <td>0.0</td>\n",
       "      <td>-1.769547</td>\n",
       "      <td>0</td>\n",
       "      <td>0</td>\n",
       "      <td>0</td>\n",
       "      <td>no_crisis</td>\n",
       "    </tr>\n",
       "    <tr>\n",
       "      <th>7</th>\n",
       "      <td>1</td>\n",
       "      <td>DZA</td>\n",
       "      <td>Algeria</td>\n",
       "      <td>1877</td>\n",
       "      <td>0</td>\n",
       "      <td>0.051867</td>\n",
       "      <td>0</td>\n",
       "      <td>0</td>\n",
       "      <td>0.0</td>\n",
       "      <td>29.116045</td>\n",
       "      <td>0</td>\n",
       "      <td>0</td>\n",
       "      <td>1</td>\n",
       "      <td>no_crisis</td>\n",
       "    </tr>\n",
       "    <tr>\n",
       "      <th>8</th>\n",
       "      <td>1</td>\n",
       "      <td>DZA</td>\n",
       "      <td>Algeria</td>\n",
       "      <td>1878</td>\n",
       "      <td>0</td>\n",
       "      <td>0.051948</td>\n",
       "      <td>0</td>\n",
       "      <td>0</td>\n",
       "      <td>0.0</td>\n",
       "      <td>-1.492537</td>\n",
       "      <td>0</td>\n",
       "      <td>0</td>\n",
       "      <td>0</td>\n",
       "      <td>no_crisis</td>\n",
       "    </tr>\n",
       "    <tr>\n",
       "      <th>9</th>\n",
       "      <td>1</td>\n",
       "      <td>DZA</td>\n",
       "      <td>Algeria</td>\n",
       "      <td>1879</td>\n",
       "      <td>0</td>\n",
       "      <td>0.052029</td>\n",
       "      <td>0</td>\n",
       "      <td>0</td>\n",
       "      <td>0.0</td>\n",
       "      <td>-16.831357</td>\n",
       "      <td>0</td>\n",
       "      <td>0</td>\n",
       "      <td>0</td>\n",
       "      <td>no_crisis</td>\n",
       "    </tr>\n",
       "  </tbody>\n",
       "</table>\n",
       "</div>"
      ],
      "text/plain": [
       "   case  cc3  country  year  systemic_crisis  exch_usd  \\\n",
       "0     1  DZA  Algeria  1870                1  0.052264   \n",
       "1     1  DZA  Algeria  1871                0  0.052798   \n",
       "2     1  DZA  Algeria  1872                0  0.052274   \n",
       "3     1  DZA  Algeria  1873                0  0.051680   \n",
       "4     1  DZA  Algeria  1874                0  0.051308   \n",
       "5     1  DZA  Algeria  1875                0  0.051546   \n",
       "6     1  DZA  Algeria  1876                0  0.051867   \n",
       "7     1  DZA  Algeria  1877                0  0.051867   \n",
       "8     1  DZA  Algeria  1878                0  0.051948   \n",
       "9     1  DZA  Algeria  1879                0  0.052029   \n",
       "\n",
       "   domestic_debt_in_default  sovereign_external_debt_default  \\\n",
       "0                         0                                0   \n",
       "1                         0                                0   \n",
       "2                         0                                0   \n",
       "3                         0                                0   \n",
       "4                         0                                0   \n",
       "5                         0                                0   \n",
       "6                         0                                0   \n",
       "7                         0                                0   \n",
       "8                         0                                0   \n",
       "9                         0                                0   \n",
       "\n",
       "   gdp_weighted_default  inflation_annual_cpi  independence  currency_crises  \\\n",
       "0                   0.0              3.441456             0                0   \n",
       "1                   0.0             14.149140             0                0   \n",
       "2                   0.0             -3.718593             0                0   \n",
       "3                   0.0             11.203897             0                0   \n",
       "4                   0.0             -3.848561             0                0   \n",
       "5                   0.0            -20.924178             0                0   \n",
       "6                   0.0             -1.769547             0                0   \n",
       "7                   0.0             29.116045             0                0   \n",
       "8                   0.0             -1.492537             0                0   \n",
       "9                   0.0            -16.831357             0                0   \n",
       "\n",
       "   inflation_crises banking_crisis  \n",
       "0                 0         crisis  \n",
       "1                 0      no_crisis  \n",
       "2                 0      no_crisis  \n",
       "3                 0      no_crisis  \n",
       "4                 0      no_crisis  \n",
       "5                 0      no_crisis  \n",
       "6                 0      no_crisis  \n",
       "7                 1      no_crisis  \n",
       "8                 0      no_crisis  \n",
       "9                 0      no_crisis  "
      ]
     },
     "execution_count": 13,
     "metadata": {},
     "output_type": "execute_result"
    }
   ],
   "source": [
    "df.head(10)"
   ]
  },
  {
   "cell_type": "code",
   "execution_count": null,
   "metadata": {},
   "outputs": [],
   "source": []
  }
 ],
 "metadata": {
  "kernelspec": {
   "display_name": "Python 3",
   "language": "python",
   "name": "python3"
  },
  "language_info": {
   "codemirror_mode": {
    "name": "ipython",
    "version": 3
   },
   "file_extension": ".py",
   "mimetype": "text/x-python",
   "name": "python",
   "nbconvert_exporter": "python",
   "pygments_lexer": "ipython3",
   "version": "3.8.8"
  }
 },
 "nbformat": 4,
 "nbformat_minor": 2
}
